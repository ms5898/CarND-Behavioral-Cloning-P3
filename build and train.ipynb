{
 "cells": [
  {
   "cell_type": "code",
   "execution_count": 20,
   "metadata": {},
   "outputs": [],
   "source": [
    "import tensorflow as tf\n",
    "from tensorflow import keras\n",
    "from tensorflow.keras import layers\n",
    "import matplotlib.pyplot as plt\n",
    "import numpy as np\n",
    "import os\n",
    "import csv\n",
    "from sklearn.model_selection import train_test_split\n",
    "import cv2\n",
    "import sklearn\n",
    "import random\n",
    "import os.path as ops"
   ]
  },
  {
   "cell_type": "markdown",
   "metadata": {},
   "source": [
    "# Build the data Generator with data augmentation"
   ]
  },
  {
   "cell_type": "code",
   "execution_count": 46,
   "metadata": {},
   "outputs": [],
   "source": [
    "def generator(samples, batch_size=32, data_folder_path=None):\n",
    "    num_samples = len(samples)\n",
    "    while 1:  # Loop forever so the generator never terminates\n",
    "        random.shuffle(samples)\n",
    "        for offset in range(0, num_samples, int(batch_size / 2)):\n",
    "            batch_samples = samples[offset:offset + int(batch_size / 2)]\n",
    "            images = []\n",
    "            angles = []\n",
    "            for batch_sample in batch_samples:\n",
    "                name = ops.join(data_folder_path, batch_sample[0])\n",
    "                center_image = cv2.imread(name)\n",
    "                center_angle = float(batch_sample[3])\n",
    "\n",
    "                # flip the center image and angle to do data augmentation\n",
    "                center_image_flip = cv2.flip(center_image, 1)\n",
    "                center_angle_flip = -center_angle\n",
    "\n",
    "                center_image = cv2.cvtColor(center_image, cv2.COLOR_BGR2RGB)\n",
    "                center_image_flip = cv2.cvtColor(center_image_flip, cv2.COLOR_BGR2RGB)\n",
    "\n",
    "                images.append(center_image)\n",
    "                angles.append(center_angle)\n",
    "                images.append(center_image_flip)\n",
    "                angles.append(center_angle_flip)\n",
    "\n",
    "            # trim image to only see section with road\n",
    "            X_train = np.array(images)\n",
    "            y_train = np.array(angles)\n",
    "            yield sklearn.utils.shuffle(X_train, y_train)"
   ]
  },
  {
   "cell_type": "code",
   "execution_count": 49,
   "metadata": {},
   "outputs": [],
   "source": [
    "data_folder_path = '/Users/smiffy/Documents/GitHub/project3_data'\n",
    "samples = []\n",
    "for data_folder in os.listdir(data_folder_path):\n",
    "    if data_folder == '.DS_Store':\n",
    "        continue\n",
    "    elif data_folder == 'data':\n",
    "        with open(data_folder_path + '/' + data_folder + '/driving_log.csv') as csvfile:\n",
    "            reader = csv.reader(csvfile)\n",
    "            for i, line in enumerate(reader):\n",
    "                if i != 0:\n",
    "                    line[0] = ops.join(data_folder, 'IMG', ops.split(line[0])[-1])\n",
    "                    line[1] = ops.join(data_folder, 'IMG', ops.split(line[1])[-1])\n",
    "                    line[2] = ops.join(data_folder, 'IMG', ops.split(line[2])[-1])\n",
    "                    samples.append(line)\n",
    "                else:\n",
    "                    pass\n",
    "    else:\n",
    "        with open(data_folder_path + '/' + data_folder + '/driving_log.csv') as csvfile:\n",
    "            reader = csv.reader(csvfile)\n",
    "            for line in reader:\n",
    "                line[0] = ops.join(data_folder, 'IMG', ops.split(line[0])[-1])\n",
    "                line[1] = ops.join(data_folder, 'IMG', ops.split(line[1])[-1])\n",
    "                line[2] = ops.join(data_folder, 'IMG', ops.split(line[2])[-1])\n",
    "                samples.append(line)\n",
    "\n",
    "random.shuffle(samples)\n",
    "train_samples, validation_samples = train_test_split(samples, test_size=0.2)"
   ]
  },
  {
   "cell_type": "code",
   "execution_count": 50,
   "metadata": {},
   "outputs": [
    {
     "name": "stdout",
     "output_type": "stream",
     "text": [
      "samples length: 11771\n",
      "train_samples length: 9416\n",
      "validation_samples length: 2355\n"
     ]
    }
   ],
   "source": [
    "print('samples length: {}'.format(len(samples)))\n",
    "print('train_samples length: {}'.format(len(train_samples)))\n",
    "print('validation_samples length: {}'.format(len(validation_samples)))"
   ]
  },
  {
   "cell_type": "code",
   "execution_count": 52,
   "metadata": {},
   "outputs": [],
   "source": [
    "# Set our batch size\n",
    "batch_size = 32\n",
    "\n",
    "# compile and train the model using the generator function\n",
    "train_generator = generator(train_samples, batch_size=batch_size, data_folder_path=data_folder_path)\n",
    "validation_generator = generator(validation_samples, batch_size=batch_size, data_folder_path=data_folder_path)"
   ]
  },
  {
   "cell_type": "code",
   "execution_count": 53,
   "metadata": {},
   "outputs": [],
   "source": [
    "for batch in train_generator:\n",
    "    break"
   ]
  },
  {
   "cell_type": "code",
   "execution_count": null,
   "metadata": {},
   "outputs": [],
   "source": []
  },
  {
   "cell_type": "code",
   "execution_count": null,
   "metadata": {},
   "outputs": [],
   "source": []
  },
  {
   "cell_type": "code",
   "execution_count": null,
   "metadata": {},
   "outputs": [],
   "source": []
  }
 ],
 "metadata": {
  "kernelspec": {
   "display_name": "Python 3",
   "language": "python",
   "name": "python3"
  },
  "language_info": {
   "codemirror_mode": {
    "name": "ipython",
    "version": 3
   },
   "file_extension": ".py",
   "mimetype": "text/x-python",
   "name": "python",
   "nbconvert_exporter": "python",
   "pygments_lexer": "ipython3",
   "version": "3.6.10"
  }
 },
 "nbformat": 4,
 "nbformat_minor": 4
}
